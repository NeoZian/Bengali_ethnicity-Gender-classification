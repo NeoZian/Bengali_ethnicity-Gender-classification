{
  "nbformat": 4,
  "nbformat_minor": 0,
  "metadata": {
    "colab": {
      "name": "last7da.ipynb",
      "version": "0.3.2",
      "provenance": [],
      "collapsed_sections": []
    },
    "kernelspec": {
      "name": "python3",
      "display_name": "Python 3"
    },
    "accelerator": "GPU"
  },
  "cells": [
    {
      "cell_type": "code",
      "metadata": {
        "id": "2vDXT_LuDC3N",
        "colab_type": "code",
        "colab": {
          "base_uri": "https://localhost:8080/",
          "height": 34
        },
        "outputId": "cf14019d-28fd-4ca9-f757-f4afe2d71766"
      },
      "source": [
        "pwd"
      ],
      "execution_count": 17,
      "outputs": [
        {
          "output_type": "execute_result",
          "data": {
            "text/plain": [
              "'/content/latest'"
            ]
          },
          "metadata": {
            "tags": []
          },
          "execution_count": 17
        }
      ]
    },
    {
      "cell_type": "code",
      "metadata": {
        "id": "w_85zrp_ELv4",
        "colab_type": "code",
        "colab": {
          "base_uri": "https://localhost:8080/",
          "height": 52
        },
        "outputId": "80cf3e5b-39e9-48af-af9a-684827070167"
      },
      "source": [
        "ls"
      ],
      "execution_count": 3,
      "outputs": [
        {
          "output_type": "stream",
          "text": [
            "all_freezed.h5      last4_layers.h5  \u001b[0m\u001b[01;34mtest\u001b[0m/\n",
            "da_last4_layers.h5  last7_layers.h5  \u001b[01;34mtrain\u001b[0m/\n"
          ],
          "name": "stdout"
        }
      ]
    },
    {
      "cell_type": "code",
      "metadata": {
        "id": "9hagLFDcENXH",
        "colab_type": "code",
        "colab": {
          "base_uri": "https://localhost:8080/",
          "height": 34
        },
        "outputId": "370c0206-1700-4ff8-e575-1483cbff5587"
      },
      "source": [
        "cp all_freezed.h5 /content/drive/My/ \\Drive/Bengali_db"
      ],
      "execution_count": 9,
      "outputs": [
        {
          "output_type": "stream",
          "text": [
            "cp: target 'Drive/Bengali_db' is not a directory\n"
          ],
          "name": "stdout"
        }
      ]
    },
    {
      "cell_type": "code",
      "metadata": {
        "id": "4u_Rm2fJHXHR",
        "colab_type": "code",
        "colab": {}
      },
      "source": [
        "import numpy as np\n",
        "import matplotlib.pyplot as plt\n",
        "%matplotlib inline\n",
        "from __future__ import print_function\n",
        "import keras\n",
        "from keras.preprocessing.image import ImageDataGenerator, load_img"
      ],
      "execution_count": 0,
      "outputs": []
    },
    {
      "cell_type": "code",
      "metadata": {
        "id": "ZT2QNG5lHfmh",
        "colab_type": "code",
        "colab": {}
      },
      "source": [
        "\n",
        "\n",
        "train_dir = 'train'\n",
        "validation_dir = 'test'\n",
        "image_size = 224\n",
        "\n"
      ],
      "execution_count": 0,
      "outputs": []
    },
    {
      "cell_type": "code",
      "metadata": {
        "id": "YeGwclGGHGKf",
        "colab_type": "code",
        "colab": {
          "base_uri": "https://localhost:8080/",
          "height": 642
        },
        "outputId": "f3f6e611-ac12-4702-d3ed-790524e4ed71"
      },
      "source": [
        "\n",
        "\n",
        "from keras.applications import VGG16\n",
        "\n",
        "#Load the VGG model\n",
        "vgg_conv = VGG16(weights='imagenet', include_top=False, input_shape=(image_size, image_size, 3))\n",
        "\n",
        "# Freeze all the layers\n",
        "for layer in vgg_conv.layers[:-7]:\n",
        "    layer.trainable = False\n",
        "\n",
        "# Check the trainable status of the individual layers\n",
        "for layer in vgg_conv.layers:\n",
        "    print(layer, layer.trainable)\n",
        "\n",
        "\n",
        "from keras import models\n",
        "from keras import layers\n",
        "from keras import optimizers\n",
        "\n",
        "# Create the model\n",
        "model = models.Sequential()\n",
        "\n",
        "# Add the vgg convolutional base model\n",
        "model.add(vgg_conv)\n",
        "\n",
        "# Add new layers\n",
        "model.add(layers.Flatten())\n",
        "model.add(layers.Dense(1024, activation='relu'))\n",
        "model.add(layers.Dropout(0.5))\n",
        "model.add(layers.Dense(2, activation='softmax'))\n",
        "\n",
        "# Show a summary of the model. Check the number of trainable parameters\n",
        "model.summary()\n",
        "\n"
      ],
      "execution_count": 20,
      "outputs": [
        {
          "output_type": "stream",
          "text": [
            "<keras.engine.input_layer.InputLayer object at 0x7f3b803a8828> False\n",
            "<keras.layers.convolutional.Conv2D object at 0x7f3bc02e4048> False\n",
            "<keras.layers.convolutional.Conv2D object at 0x7f3b803bb4e0> False\n",
            "<keras.layers.pooling.MaxPooling2D object at 0x7f3b803bba90> False\n",
            "<keras.layers.convolutional.Conv2D object at 0x7f3b803bba58> False\n",
            "<keras.layers.convolutional.Conv2D object at 0x7f3b8036d908> False\n",
            "<keras.layers.pooling.MaxPooling2D object at 0x7f3b80381748> False\n",
            "<keras.layers.convolutional.Conv2D object at 0x7f3b80381898> False\n",
            "<keras.layers.convolutional.Conv2D object at 0x7f3b80331cf8> False\n",
            "<keras.layers.convolutional.Conv2D object at 0x7f3b803485c0> False\n",
            "<keras.layers.pooling.MaxPooling2D object at 0x7f3b802d9a90> False\n",
            "<keras.layers.convolutional.Conv2D object at 0x7f3b802f60f0> False\n",
            "<keras.layers.convolutional.Conv2D object at 0x7f3b80291b00> True\n",
            "<keras.layers.convolutional.Conv2D object at 0x7f3b802a2a20> True\n",
            "<keras.layers.pooling.MaxPooling2D object at 0x7f3b80251d30> True\n",
            "<keras.layers.convolutional.Conv2D object at 0x7f3b80251d68> True\n",
            "<keras.layers.convolutional.Conv2D object at 0x7f3b8027b3c8> True\n",
            "<keras.layers.convolutional.Conv2D object at 0x7f3b8027bc50> True\n",
            "<keras.layers.pooling.MaxPooling2D object at 0x7f3b8022dbe0> True\n",
            "_________________________________________________________________\n",
            "Layer (type)                 Output Shape              Param #   \n",
            "=================================================================\n",
            "vgg16 (Model)                (None, 7, 7, 512)         14714688  \n",
            "_________________________________________________________________\n",
            "flatten_3 (Flatten)          (None, 25088)             0         \n",
            "_________________________________________________________________\n",
            "dense_5 (Dense)              (None, 1024)              25691136  \n",
            "_________________________________________________________________\n",
            "dropout_3 (Dropout)          (None, 1024)              0         \n",
            "_________________________________________________________________\n",
            "dense_6 (Dense)              (None, 2)                 2050      \n",
            "=================================================================\n",
            "Total params: 40,407,874\n",
            "Trainable params: 37,492,226\n",
            "Non-trainable params: 2,915,648\n",
            "_________________________________________________________________\n"
          ],
          "name": "stdout"
        }
      ]
    },
    {
      "cell_type": "code",
      "metadata": {
        "id": "A3xEoeERHYsx",
        "colab_type": "code",
        "colab": {}
      },
      "source": [
        ""
      ],
      "execution_count": 0,
      "outputs": []
    },
    {
      "cell_type": "code",
      "metadata": {
        "id": "dZjIMr1VHY1g",
        "colab_type": "code",
        "colab": {}
      },
      "source": [
        ""
      ],
      "execution_count": 0,
      "outputs": []
    },
    {
      "cell_type": "code",
      "metadata": {
        "id": "-thIMJT0Ep6h",
        "colab_type": "code",
        "colab": {
          "base_uri": "https://localhost:8080/",
          "height": 1000
        },
        "outputId": "7e1f231b-fc85-4a67-ecda-85a324438d29"
      },
      "source": [
        "train_datagen = ImageDataGenerator(\n",
        "      rescale=1./255,\n",
        "      rotation_range=20,\n",
        "      width_shift_range=0.2,\n",
        "      height_shift_range=0.2,\n",
        "      horizontal_flip=True,\n",
        "      fill_mode='nearest')\n",
        "\n",
        "validation_datagen = ImageDataGenerator(rescale=1./255)\n",
        "\n",
        "# Change the batchsize according to your system RAM\n",
        "train_batchsize = 50\n",
        "val_batchsize = 10\n",
        "\n",
        "# Data Generator for Training data\n",
        "train_generator = train_datagen.flow_from_directory(\n",
        "        train_dir,\n",
        "        target_size=(image_size, image_size),\n",
        "        batch_size=train_batchsize,\n",
        "        class_mode='categorical')\n",
        "\n",
        "# Data Generator for Validation data\n",
        "validation_generator = validation_datagen.flow_from_directory(\n",
        "        validation_dir,\n",
        "        target_size=(image_size, image_size),\n",
        "        batch_size=val_batchsize,\n",
        "        class_mode='categorical',\n",
        "        shuffle=False)\n",
        "\n",
        "# Compile the model\n",
        "model.compile(loss='categorical_crossentropy',\n",
        "              optimizer=optimizers.RMSprop(lr=1e-4),\n",
        "              metrics=['acc'])\n",
        "\n",
        "# Train the Model\n",
        "# NOTE that we have multiplied the steps_per_epoch by 2. This is because we are using data augmentation.\n",
        "history = model.fit_generator(\n",
        "      train_generator,\n",
        "      steps_per_epoch=2*train_generator.samples/train_generator.batch_size ,\n",
        "      epochs=40,\n",
        "      validation_data=validation_generator,\n",
        "      validation_steps=validation_generator.samples/validation_generator.batch_size,\n",
        "      verbose=1)\n",
        "\n",
        "# Save the Model\n",
        "model.save('da_last7_layers.h5')\n",
        "\n",
        "# Plot the accuracy and loss curves\n",
        "acc = history.history['acc']\n",
        "val_acc = history.history['val_acc']\n",
        "loss = history.history['loss']\n",
        "val_loss = history.history['val_loss']\n",
        "\n",
        "epochs = range(len(acc))\n",
        "\n",
        "plt.plot(epochs, acc, 'b', label='Training acc')\n",
        "plt.plot(epochs, val_acc, 'r', label='Validation acc')\n",
        "plt.title('Training and validation accuracy')\n",
        "plt.legend()\n",
        "\n",
        "plt.figure()\n",
        "\n",
        "plt.plot(epochs, loss, 'b', label='Training loss')\n",
        "plt.plot(epochs, val_loss, 'r', label='Validation loss')\n",
        "plt.title('Training and validation loss')\n",
        "plt.legend()\n",
        "\n",
        "plt.show()"
      ],
      "execution_count": 21,
      "outputs": [
        {
          "output_type": "stream",
          "text": [
            "Found 3345 images belonging to 2 classes.\n",
            "Found 838 images belonging to 2 classes.\n",
            "Epoch 1/40\n",
            " 37/133 [=======>......................] - ETA: 2:17 - loss: 0.7935 - acc: 0.5065"
          ],
          "name": "stdout"
        },
        {
          "output_type": "stream",
          "text": [
            "/usr/local/lib/python3.6/dist-packages/PIL/Image.py:2496: DecompressionBombWarning: Image size (139489119 pixels) exceeds limit of 89478485 pixels, could be decompression bomb DOS attack.\n",
            "  DecompressionBombWarning)\n"
          ],
          "name": "stderr"
        },
        {
          "output_type": "stream",
          "text": [
            " 44/133 [========>.....................] - ETA: 2:11 - loss: 0.7820 - acc: 0.5055"
          ],
          "name": "stdout"
        },
        {
          "output_type": "stream",
          "text": [
            "/usr/local/lib/python3.6/dist-packages/PIL/TiffImagePlugin.py:725: UserWarning: Possibly corrupt EXIF data.  Expecting to read 33685504 bytes but only got 0. Skipping tag 4\n",
            "  \" Skipping tag %s\" % (size, len(data), tag))\n",
            "/usr/local/lib/python3.6/dist-packages/PIL/TiffImagePlugin.py:725: UserWarning: Possibly corrupt EXIF data.  Expecting to read 47185920 bytes but only got 0. Skipping tag 4\n",
            "  \" Skipping tag %s\" % (size, len(data), tag))\n",
            "/usr/local/lib/python3.6/dist-packages/PIL/TiffImagePlugin.py:725: UserWarning: Possibly corrupt EXIF data.  Expecting to read 65536 bytes but only got 0. Skipping tag 3\n",
            "  \" Skipping tag %s\" % (size, len(data), tag))\n",
            "/usr/local/lib/python3.6/dist-packages/PIL/TiffImagePlugin.py:725: UserWarning: Possibly corrupt EXIF data.  Expecting to read 2359296 bytes but only got 0. Skipping tag 5\n",
            "  \" Skipping tag %s\" % (size, len(data), tag))\n",
            "/usr/local/lib/python3.6/dist-packages/PIL/TiffImagePlugin.py:725: UserWarning: Possibly corrupt EXIF data.  Expecting to read 2883584 bytes but only got 0. Skipping tag 5\n",
            "  \" Skipping tag %s\" % (size, len(data), tag))\n",
            "/usr/local/lib/python3.6/dist-packages/PIL/TiffImagePlugin.py:725: UserWarning: Possibly corrupt EXIF data.  Expecting to read 131072 bytes but only got 0. Skipping tag 3\n",
            "  \" Skipping tag %s\" % (size, len(data), tag))\n",
            "/usr/local/lib/python3.6/dist-packages/PIL/TiffImagePlugin.py:725: UserWarning: Possibly corrupt EXIF data.  Expecting to read 1112801280 bytes but only got 0. Skipping tag 4\n",
            "  \" Skipping tag %s\" % (size, len(data), tag))\n",
            "/usr/local/lib/python3.6/dist-packages/PIL/TiffImagePlugin.py:725: UserWarning: Possibly corrupt EXIF data.  Expecting to read 999424 bytes but only got 17294. Skipping tag 513\n",
            "  \" Skipping tag %s\" % (size, len(data), tag))\n",
            "/usr/local/lib/python3.6/dist-packages/PIL/TiffImagePlugin.py:725: UserWarning: Possibly corrupt EXIF data.  Expecting to read 3846701056 bytes but only got 0. Skipping tag 2\n",
            "  \" Skipping tag %s\" % (size, len(data), tag))\n",
            "/usr/local/lib/python3.6/dist-packages/PIL/TiffImagePlugin.py:725: UserWarning: Possibly corrupt EXIF data.  Expecting to read 3300917248 bytes but only got 4962. Skipping tag 7\n",
            "  \" Skipping tag %s\" % (size, len(data), tag))\n",
            "/usr/local/lib/python3.6/dist-packages/PIL/TiffImagePlugin.py:725: UserWarning: Possibly corrupt EXIF data.  Expecting to read 262400 bytes but only got 17297. Skipping tag 0\n",
            "  \" Skipping tag %s\" % (size, len(data), tag))\n",
            "/usr/local/lib/python3.6/dist-packages/PIL/TiffImagePlugin.py:742: UserWarning: Corrupt EXIF data.  Expecting to read 12 bytes but only got 8. \n",
            "  warnings.warn(str(msg))\n"
          ],
          "name": "stderr"
        },
        {
          "output_type": "stream",
          "text": [
            "134/133 [==============================] - 212s 2s/step - loss: 0.7814 - acc: 0.5605 - val_loss: 0.5599 - val_acc: 0.7327\n",
            "Epoch 2/40\n",
            "134/133 [==============================] - 200s 1s/step - loss: 0.5581 - acc: 0.7306 - val_loss: 0.4425 - val_acc: 0.8162\n",
            "Epoch 3/40\n",
            "134/133 [==============================] - 199s 1s/step - loss: 0.4202 - acc: 0.8171 - val_loss: 0.3133 - val_acc: 0.8687\n",
            "Epoch 4/40\n",
            "134/133 [==============================] - 200s 1s/step - loss: 0.3426 - acc: 0.8597 - val_loss: 0.3351 - val_acc: 0.8747\n",
            "Epoch 5/40\n",
            "134/133 [==============================] - 199s 1s/step - loss: 0.2947 - acc: 0.8845 - val_loss: 0.2888 - val_acc: 0.8890\n",
            "Epoch 6/40\n",
            "134/133 [==============================] - 200s 1s/step - loss: 0.2511 - acc: 0.9072 - val_loss: 0.2861 - val_acc: 0.8759\n",
            "Epoch 7/40\n",
            "134/133 [==============================] - 199s 1s/step - loss: 0.2330 - acc: 0.9095 - val_loss: 0.3141 - val_acc: 0.8926\n",
            "Epoch 8/40\n",
            "134/133 [==============================] - 200s 1s/step - loss: 0.1981 - acc: 0.9226 - val_loss: 1.7772 - val_acc: 0.7303\n",
            "Epoch 9/40\n",
            "134/133 [==============================] - 200s 1s/step - loss: 0.2257 - acc: 0.9242 - val_loss: 0.3215 - val_acc: 0.8926\n",
            "Epoch 10/40\n",
            "134/133 [==============================] - 200s 1s/step - loss: 0.1758 - acc: 0.9351 - val_loss: 0.4113 - val_acc: 0.8866\n",
            "Epoch 11/40\n",
            "134/133 [==============================] - 200s 1s/step - loss: 0.1814 - acc: 0.9405 - val_loss: 0.5206 - val_acc: 0.8842\n",
            "Epoch 12/40\n",
            "134/133 [==============================] - 200s 1s/step - loss: 0.2137 - acc: 0.9354 - val_loss: 0.5052 - val_acc: 0.8938\n",
            "Epoch 13/40\n",
            "134/133 [==============================] - 200s 1s/step - loss: 0.1781 - acc: 0.9419 - val_loss: 0.5395 - val_acc: 0.8783\n",
            "Epoch 14/40\n",
            "134/133 [==============================] - 199s 1s/step - loss: 0.1544 - acc: 0.9464 - val_loss: 0.4649 - val_acc: 0.8461\n",
            "Epoch 15/40\n",
            "134/133 [==============================] - 201s 1s/step - loss: 0.1699 - acc: 0.9484 - val_loss: 0.3876 - val_acc: 0.8831\n",
            "Epoch 16/40\n",
            "134/133 [==============================] - 199s 1s/step - loss: 0.1715 - acc: 0.9436 - val_loss: 0.4487 - val_acc: 0.8950\n",
            "Epoch 17/40\n",
            "134/133 [==============================] - 200s 1s/step - loss: 0.1796 - acc: 0.9454 - val_loss: 0.5632 - val_acc: 0.8771\n",
            "Epoch 18/40\n",
            "134/133 [==============================] - 200s 1s/step - loss: 0.1500 - acc: 0.9519 - val_loss: 0.9700 - val_acc: 0.8675\n",
            "Epoch 19/40\n",
            "134/133 [==============================] - 200s 1s/step - loss: 0.1595 - acc: 0.9512 - val_loss: 0.6216 - val_acc: 0.8854\n",
            "Epoch 20/40\n",
            "134/133 [==============================] - 199s 1s/step - loss: 0.1633 - acc: 0.9531 - val_loss: 0.6784 - val_acc: 0.8687\n",
            "Epoch 21/40\n",
            "134/133 [==============================] - 199s 1s/step - loss: 0.1525 - acc: 0.9555 - val_loss: 0.8354 - val_acc: 0.8723\n",
            "Epoch 22/40\n",
            "134/133 [==============================] - 200s 1s/step - loss: 0.1382 - acc: 0.9534 - val_loss: 0.5633 - val_acc: 0.8890\n",
            "Epoch 23/40\n",
            "134/133 [==============================] - 200s 1s/step - loss: 0.1987 - acc: 0.9528 - val_loss: 0.5183 - val_acc: 0.8819\n",
            "Epoch 24/40\n",
            "134/133 [==============================] - 200s 1s/step - loss: 0.1897 - acc: 0.9511 - val_loss: 0.6544 - val_acc: 0.8783\n",
            "Epoch 25/40\n",
            "134/133 [==============================] - 200s 1s/step - loss: 0.1653 - acc: 0.9579 - val_loss: 3.0403 - val_acc: 0.7291\n",
            "Epoch 26/40\n",
            "134/133 [==============================] - 200s 1s/step - loss: 0.1336 - acc: 0.9575 - val_loss: 0.9344 - val_acc: 0.8866\n",
            "Epoch 27/40\n",
            "134/133 [==============================] - 200s 1s/step - loss: 0.1755 - acc: 0.9585 - val_loss: 0.6755 - val_acc: 0.8831\n",
            "Epoch 28/40\n",
            "134/133 [==============================] - 197s 1s/step - loss: 0.1781 - acc: 0.9561 - val_loss: 1.3508 - val_acc: 0.8270\n",
            "Epoch 29/40\n",
            "134/133 [==============================] - 195s 1s/step - loss: 0.1572 - acc: 0.9610 - val_loss: 1.0482 - val_acc: 0.8675\n",
            "Epoch 30/40\n",
            "134/133 [==============================] - 194s 1s/step - loss: 0.1399 - acc: 0.9576 - val_loss: 0.5770 - val_acc: 0.8890\n",
            "Epoch 31/40\n",
            "134/133 [==============================] - 193s 1s/step - loss: 0.2087 - acc: 0.9574 - val_loss: 0.6378 - val_acc: 0.8962\n",
            "Epoch 32/40\n",
            "134/133 [==============================] - 193s 1s/step - loss: 0.1764 - acc: 0.9600 - val_loss: 0.8030 - val_acc: 0.8675\n",
            "Epoch 33/40\n",
            "134/133 [==============================] - 193s 1s/step - loss: 0.1961 - acc: 0.9562 - val_loss: 0.5270 - val_acc: 0.8675\n",
            "Epoch 34/40\n",
            "134/133 [==============================] - 193s 1s/step - loss: 0.1373 - acc: 0.9597 - val_loss: 0.5527 - val_acc: 0.9021\n",
            "Epoch 35/40\n",
            "134/133 [==============================] - 192s 1s/step - loss: 0.1466 - acc: 0.9630 - val_loss: 1.0208 - val_acc: 0.8986\n",
            "Epoch 36/40\n",
            "134/133 [==============================] - 198s 1s/step - loss: 0.1639 - acc: 0.9622 - val_loss: 0.8378 - val_acc: 0.8866\n",
            "Epoch 37/40\n",
            "134/133 [==============================] - 204s 2s/step - loss: 0.1913 - acc: 0.9622 - val_loss: 1.0817 - val_acc: 0.8544\n",
            "Epoch 38/40\n",
            "134/133 [==============================] - 203s 2s/step - loss: 0.1659 - acc: 0.9610 - val_loss: 0.6349 - val_acc: 0.8783\n",
            "Epoch 39/40\n",
            "134/133 [==============================] - 201s 2s/step - loss: 0.3012 - acc: 0.9540 - val_loss: 0.7963 - val_acc: 0.8854\n",
            "Epoch 40/40\n",
            "134/133 [==============================] - 201s 1s/step - loss: 0.1551 - acc: 0.9630 - val_loss: 0.8578 - val_acc: 0.8640\n"
          ],
          "name": "stdout"
        },
        {
          "output_type": "display_data",
          "data": {
            "image/png": "[encoded data removed]",
            "text/plain": [
              "<Figure size 432x288 with 1 Axes>"
            ]
          },
          "metadata": {
            "tags": []
          }
        },
        {
          "output_type": "display_data",
          "data": {
            "image/png": "[encoded data removed]",
            "text/plain": [
              "<Figure size 432x288 with 1 Axes>"
            ]
          },
          "metadata": {
            "tags": []
          }
        }
      ]
    },
    {
      "cell_type": "code",
      "metadata": {
        "id": "lDBdCfXFIL9r",
        "colab_type": "code",
        "colab": {}
      },
      "source": [
        ""
      ],
      "execution_count": 0,
      "outputs": []
    }
  ]
}